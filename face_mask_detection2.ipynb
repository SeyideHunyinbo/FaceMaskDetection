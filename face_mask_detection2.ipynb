{
  "nbformat": 4,
  "nbformat_minor": 2,
  "metadata": {
    "colab": {
      "name": "face_mask_detection2.ipynb",
      "provenance": [],
      "collapsed_sections": []
    },
    "kernelspec": {
      "display_name": "Python 3",
      "name": "python3"
    },
    "language_info": {
      "name": "python"
    }
  },
  "cells": [
    {
      "cell_type": "code",
      "execution_count": 1,
      "source": [
        "import os\r\n",
        "import pandas as pd\r\n",
        "import numpy as np\r\n",
        "import matplotlib.pyplot as plt\r\n",
        "from sklearn.model_selection import train_test_split\r\n",
        "from sklearn.metrics import f1_score, r2_score, r2_score, confusion_matrix\r\n",
        "from sklearn.utils import shuffle\r\n",
        "import imutils\r\n",
        "import tensorflow as tf\r\n",
        "from tensorflow.keras import models, layers\r\n",
        "from tensorflow.keras.utils import to_categorical\r\n",
        "from tensorflow.keras.optimizers import RMSprop\r\n",
        "from tensorflow.keras.preprocessing.image import ImageDataGenerator\r\n",
        "from keras.callbacks import TensorBoard, ModelCheckpoint"
      ],
      "outputs": [],
      "metadata": {
        "id": "K8gZxJsis4q5"
      }
    },
    {
      "cell_type": "code",
      "execution_count": 2,
      "source": [
        "# CNN Architecture\r\n",
        "model = models.Sequential()\r\n",
        "model.add(layers.Conv2D(16, (3,3), activation='relu', input_shape=(150, 150, 3)))\r\n",
        "model.add(layers.MaxPooling2D((2 ,2)))\r\n",
        "model.add(layers.Conv2D(32, (3 ,3), activation='relu'))\r\n",
        "model.add(layers.MaxPooling2D((2 ,2)))\r\n",
        "model.add(layers.Conv2D(32, (3,3), activation='relu', input_shape=(150, 150, 3)))\r\n",
        "model.add(layers.MaxPooling2D((2 ,2)))\r\n",
        "model.add(layers.Flatten())\r\n",
        "model.add(layers.Dense(64, activation='relu'))\r\n",
        "model.add(layers.Dense(1, activation='sigmoid'))\r\n",
        "model.summary()"
      ],
      "outputs": [
        {
          "output_type": "stream",
          "name": "stdout",
          "text": [
            "Model: \"sequential\"\n",
            "_________________________________________________________________\n",
            "Layer (type)                 Output Shape              Param #   \n",
            "=================================================================\n",
            "conv2d (Conv2D)              (None, 148, 148, 16)      448       \n",
            "_________________________________________________________________\n",
            "max_pooling2d (MaxPooling2D) (None, 74, 74, 16)        0         \n",
            "_________________________________________________________________\n",
            "conv2d_1 (Conv2D)            (None, 72, 72, 32)        4640      \n",
            "_________________________________________________________________\n",
            "max_pooling2d_1 (MaxPooling2 (None, 36, 36, 32)        0         \n",
            "_________________________________________________________________\n",
            "conv2d_2 (Conv2D)            (None, 34, 34, 32)        9248      \n",
            "_________________________________________________________________\n",
            "max_pooling2d_2 (MaxPooling2 (None, 17, 17, 32)        0         \n",
            "_________________________________________________________________\n",
            "flatten (Flatten)            (None, 9248)              0         \n",
            "_________________________________________________________________\n",
            "dense (Dense)                (None, 64)                591936    \n",
            "_________________________________________________________________\n",
            "dense_1 (Dense)              (None, 1)                 65        \n",
            "=================================================================\n",
            "Total params: 606,337\n",
            "Trainable params: 606,337\n",
            "Non-trainable params: 0\n",
            "_________________________________________________________________\n"
          ]
        }
      ],
      "metadata": {
        "colab": {
          "base_uri": "https://localhost:8080/"
        },
        "id": "9-f5ugyKtdqT",
        "outputId": "7e9e8264-98ca-41f5-afc3-8ce755cfeca0"
      }
    },
    {
      "cell_type": "code",
      "execution_count": 3,
      "source": [
        "from google.colab import drive\r\n",
        "drive.mount('/content/drive')"
      ],
      "outputs": [
        {
          "output_type": "stream",
          "name": "stdout",
          "text": [
            "Drive already mounted at /content/drive; to attempt to forcibly remount, call drive.mount(\"/content/drive\", force_remount=True).\n"
          ]
        }
      ],
      "metadata": {
        "colab": {
          "base_uri": "https://localhost:8080/"
        },
        "id": "XPrmujJi4MpS",
        "outputId": "06f1af8d-e4ce-4fff-a699-e84061e4dea9"
      }
    },
    {
      "cell_type": "code",
      "execution_count": 4,
      "source": [
        "root_path = os.getcwd()\r\n",
        "TRAINING_DIRECTORY = root_path + '/drive/MyDrive/FaceMaskDetection/train'\r\n",
        "train_datagenerator = ImageDataGenerator(rescale=1./255)\r\n",
        "train_gen = train_datagenerator.flow_from_directory(TRAINING_DIRECTORY, target_size=(150, 150), batch_size=128, class_mode='binary')\r\n",
        "\r\n",
        "VALIDATION_DIRECTORY = root_path + '/drive/MyDrive/FaceMaskDetection/test'\r\n",
        "valid_datagenerator = ImageDataGenerator(rescale=1./255)\r\n",
        "valid_gen = valid_datagenerator.flow_from_directory(VALIDATION_DIRECTORY, batch_size=32, target_size=(150, 150), class_mode='binary')"
      ],
      "outputs": [
        {
          "output_type": "stream",
          "name": "stdout",
          "text": [
            "Found 1315 images belonging to 2 classes.\n",
            "Found 194 images belonging to 2 classes.\n"
          ]
        }
      ],
      "metadata": {
        "colab": {
          "base_uri": "https://localhost:8080/"
        },
        "id": "0fjQchOJ06nf",
        "outputId": "0b3b5715-70fa-4645-aa0e-ad7ce78c3b07"
      }
    },
    {
      "cell_type": "code",
      "execution_count": 5,
      "source": [
        "#Using callbacks for training control\r\n",
        "class myCallback(tf.keras.callbacks.Callback):\r\n",
        "  def on_epoch_end(self, epoch, logs={}):\r\n",
        "    if logs.get('val_accuracy') > 0.95:\r\n",
        "      print('Treshold loss reached, cancelling training....\\n')\r\n",
        "      self.model.stop_training = True\r\n",
        "\r\n",
        "# train model\r\n",
        "tf.random.set_seed(42)\r\n",
        "# \r\n",
        "# model.compile(loss='binary_crossentropy', optimizer='adam', metrics=['accuracy'])\r\n",
        "# history = model.fit(train_gen, epochs=10, validation_data=valid_gen, callbacks=[myCallback()])\r\n",
        "\r\n",
        "model.compile(loss='binary_crossentropy', optimizer=RMSprop(learning_rate=1e-3), metrics=['accuracy'])\r\n",
        "history = model.fit(train_gen,\r\n",
        "                    steps_per_epoch=10,\r\n",
        "                    epochs=10, \r\n",
        "                    validation_data=valid_gen,\r\n",
        "                    validation_steps=6,\r\n",
        "                    callbacks=[myCallback()])"
      ],
      "outputs": [
        {
          "output_type": "stream",
          "name": "stdout",
          "text": [
            "Epoch 1/10\n",
            "10/10 [==============================] - 31s 3s/step - loss: 1.1797 - accuracy: 0.5720 - val_loss: 0.6225 - val_accuracy: 0.5052\n",
            "Epoch 2/10\n",
            "10/10 [==============================] - 29s 3s/step - loss: 0.5524 - accuracy: 0.6824 - val_loss: 0.5983 - val_accuracy: 0.5625\n",
            "Epoch 3/10\n",
            "10/10 [==============================] - 29s 3s/step - loss: 0.3539 - accuracy: 0.8484 - val_loss: 0.2052 - val_accuracy: 0.9167\n",
            "Epoch 4/10\n",
            "10/10 [==============================] - 29s 3s/step - loss: 0.3486 - accuracy: 0.8627 - val_loss: 0.2471 - val_accuracy: 0.8750\n",
            "Epoch 5/10\n",
            "10/10 [==============================] - 29s 3s/step - loss: 0.2096 - accuracy: 0.9292 - val_loss: 0.2403 - val_accuracy: 0.8854\n",
            "Epoch 6/10\n",
            "10/10 [==============================] - 29s 3s/step - loss: 0.1797 - accuracy: 0.9326 - val_loss: 0.1929 - val_accuracy: 0.9219\n",
            "Epoch 7/10\n",
            "10/10 [==============================] - 29s 3s/step - loss: 0.1589 - accuracy: 0.9402 - val_loss: 0.1763 - val_accuracy: 0.9167\n",
            "Epoch 8/10\n",
            "10/10 [==============================] - 31s 3s/step - loss: 0.1696 - accuracy: 0.9398 - val_loss: 0.4558 - val_accuracy: 0.8125\n",
            "Epoch 9/10\n",
            "10/10 [==============================] - 29s 3s/step - loss: 0.1615 - accuracy: 0.9419 - val_loss: 0.1380 - val_accuracy: 0.9583\n",
            "Treshold loss reached, cancelling training....\n",
            "\n"
          ]
        }
      ],
      "metadata": {
        "colab": {
          "base_uri": "https://localhost:8080/"
        },
        "id": "8IHdhqy4BfEc",
        "outputId": "d68c4ac5-8ce2-4e29-fe2a-5bcbc5fbb00a"
      }
    },
    {
      "cell_type": "code",
      "execution_count": 9,
      "source": [
        "fig, ax = plt.subplots()\r\n",
        "ax.plot(history.history['accuracy'], label = 'training accuracy')\r\n",
        "ax.plot(history.history['val_accuracy'], label = 'validation accuracy')\r\n",
        "ax.set_xlabel('Epochs')\r\n",
        "ax.set_ylabel('Accuracy')\r\n",
        "ax2 = ax.twinx()\r\n",
        "ax2.plot(history.history['loss'], label = 'training loss')\r\n",
        "ax2.plot(history.history['val_loss'], label = 'validation loss')\r\n",
        "ax2.set_ylabel('Loss')\r\n",
        "plt.legend()\r\n",
        "plt.tight_layout()\r\n",
        "plt.title('Learning Curve')\r\n",
        "plt.show()"
      ],
      "outputs": [
        {
          "output_type": "display_data",
          "data": {
            "text/plain": [
              "<Figure size 432x288 with 2 Axes>"
            ],
            "image/png": "[encoded data removed]"
          },
          "metadata": {
            "tags": [],
            "needs_background": "light"
          }
        }
      ],
      "metadata": {
        "colab": {
          "base_uri": "https://localhost:8080/",
          "height": 313
        },
        "id": "RcArJEArdPp3",
        "outputId": "cf5a65de-ad0f-45b1-b0c7-926a9c5e8e4b"
      }
    },
    {
      "cell_type": "code",
      "execution_count": null,
      "source": [
        "y_predict = model.predict(X_test)\r\n",
        "accuracy = accuracy_score(np.argmax(y_test, axis=1), np.argmax(y_predict, axis=1))\r\n",
        "print(f\"Accuracy is {round(accuracy, 2) * 100}%\\n\")\r\n",
        "_precision_score_ = precision_score(np.argmax(y_test, axis=1), np.argmax(y_predict, axis=1), average='micro')\r\n",
        "print(f\"Precision is {round(_precision_score_, 2) * 100}%\\n\")\r\n",
        "_recall_score_ = precision_score(np.argmax(y_test, axis=1), np.argmax(y_predict, axis=1), average='micro')\r\n",
        "print(f\"Recall is {round(_recall_score_, 2) * 100}%\\n\")\r\n",
        "# confusion_matrix_df = pd.DataFrame(data = confusion_matrix(np.argmax(y_test, axis=1), np.argmax(y_predict, axis=1)), index=[\"negative_actual\", \"positive_actual\"], columns=[\"negative_predicted\", \"positive_predicted\"])\r\n",
        "confusion_matrix_df = pd.DataFrame(data = confusion_matrix(np.argmax(y_test, axis=1), np.argmax(y_predict, axis=1)))\r\n",
        "confusion_matrix_df"
      ],
      "outputs": [],
      "metadata": {
        "id": "wkThsaF9dkF0"
      }
    },
    {
      "cell_type": "code",
      "execution_count": 7,
      "source": [
        "model.save('facemaskdetectormodel2.h5')"
      ],
      "outputs": [],
      "metadata": {
        "id": "3XMq4dWGChwj"
      }
    }
  ]
}